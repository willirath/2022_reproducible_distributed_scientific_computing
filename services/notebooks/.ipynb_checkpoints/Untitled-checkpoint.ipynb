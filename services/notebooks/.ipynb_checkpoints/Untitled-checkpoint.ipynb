{
 "cells": [
  {
   "cell_type": "code",
   "execution_count": 1,
   "id": "66d12a59-41f0-4747-a177-ffc60d66a4f2",
   "metadata": {},
   "outputs": [],
   "source": [
    "import redis"
   ]
  },
  {
   "cell_type": "code",
   "execution_count": 2,
   "id": "854b19a9-8550-41f8-a260-1770005a540a",
   "metadata": {},
   "outputs": [],
   "source": [
    "redis_store = redis.Redis(host=\"data_agg_redis\", port=6379)"
   ]
  },
  {
   "cell_type": "code",
   "execution_count": 4,
   "id": "b3c5307c-083a-40e6-9c41-56118ecc25a9",
   "metadata": {},
   "outputs": [
    {
     "ename": "AttributeError",
     "evalue": "'Redis' object has no attribute 'sget'",
     "output_type": "error",
     "traceback": [
      "\u001b[0;31m---------------------------------------------------------------------------\u001b[0m",
      "\u001b[0;31mAttributeError\u001b[0m                            Traceback (most recent call last)",
      "Cell \u001b[0;32mIn[4], line 1\u001b[0m\n\u001b[0;32m----> 1\u001b[0m \u001b[43mredis_store\u001b[49m\u001b[38;5;241;43m.\u001b[39;49m\u001b[43msget\u001b[49m(\u001b[38;5;124m\"\u001b[39m\u001b[38;5;124mparticle_ids\u001b[39m\u001b[38;5;124m\"\u001b[39m)\n",
      "\u001b[0;31mAttributeError\u001b[0m: 'Redis' object has no attribute 'sget'"
     ]
    }
   ],
   "source": [
    "redis_store.sget(\"particle_ids\")"
   ]
  },
  {
   "cell_type": "code",
   "execution_count": 5,
   "id": "0c218d70-5a2a-488e-9256-5d074c8e9f58",
   "metadata": {},
   "outputs": [
    {
     "data": {
      "text/plain": [
       "set()"
      ]
     },
     "execution_count": 5,
     "metadata": {},
     "output_type": "execute_result"
    }
   ],
   "source": [
    "redis_store.smembers(\"particle_ids\")"
   ]
  },
  {
   "cell_type": "code",
   "execution_count": null,
   "id": "31caaf20-b406-4f3f-aea9-e945c15aaa25",
   "metadata": {},
   "outputs": [],
   "source": []
  }
 ],
 "metadata": {
  "kernelspec": {
   "display_name": "Python 3 (ipykernel)",
   "language": "python",
   "name": "python3"
  },
  "language_info": {
   "codemirror_mode": {
    "name": "ipython",
    "version": 3
   },
   "file_extension": ".py",
   "mimetype": "text/x-python",
   "name": "python",
   "nbconvert_exporter": "python",
   "pygments_lexer": "ipython3",
   "version": "3.10.8"
  }
 },
 "nbformat": 4,
 "nbformat_minor": 5
}
