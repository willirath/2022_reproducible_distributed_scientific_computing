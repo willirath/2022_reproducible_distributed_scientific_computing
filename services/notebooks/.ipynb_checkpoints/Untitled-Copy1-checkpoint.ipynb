{
 "cells": [
  {
   "cell_type": "code",
   "execution_count": 1,
   "id": "66d12a59-41f0-4747-a177-ffc60d66a4f2",
   "metadata": {},
   "outputs": [],
   "source": [
    "import redis"
   ]
  },
  {
   "cell_type": "code",
   "execution_count": 2,
   "id": "854b19a9-8550-41f8-a260-1770005a540a",
   "metadata": {},
   "outputs": [],
   "source": [
    "redis_store = redis.Redis(host=\"data_agg_redis\", port=6379)"
   ]
  },
  {
   "cell_type": "code",
   "execution_count": 3,
   "id": "0c218d70-5a2a-488e-9256-5d074c8e9f58",
   "metadata": {},
   "outputs": [
    {
     "data": {
      "text/plain": [
       "['64342189-b51e-4ce1-a474-6c5c2c6d1eef',\n",
       " 'f5e5af83-c222-4d7b-82c7-402d52ad0e26',\n",
       " '9a5a020d-122b-4ec1-9a78-7259f517c961',\n",
       " 'f13599da-8a51-4ff3-bdb6-31f8b050f37d']"
      ]
     },
     "execution_count": 3,
     "metadata": {},
     "output_type": "execute_result"
    }
   ],
   "source": [
    "particles = list(map(lambda b: b.decode(\"utf-8\"), redis_store.smembers(\"particle_ids\")))\n",
    "particles"
   ]
  },
  {
   "cell_type": "code",
   "execution_count": 7,
   "id": "31caaf20-b406-4f3f-aea9-e945c15aaa25",
   "metadata": {},
   "outputs": [
    {
     "data": {
      "text/plain": [
       "[b\"('f5e5af83-c222-4d7b-82c7-402d52ad0e26', 'y')\",\n",
       " b\"('f5e5af83-c222-4d7b-82c7-402d52ad0e26', 'x')\",\n",
       " b'particle_ids']"
      ]
     },
     "execution_count": 7,
     "metadata": {},
     "output_type": "execute_result"
    }
   ],
   "source": [
    "redis_store.keys()"
   ]
  },
  {
   "cell_type": "code",
   "execution_count": 20,
   "id": "cb6fb71b-773f-487d-a0b2-8a11b8fb5552",
   "metadata": {},
   "outputs": [
    {
     "data": {
      "text/plain": [
       "[b'-1.9414604743942618',\n",
       " b'-1.4985942915081978',\n",
       " b'-1.0557281086221337',\n",
       " b'-0.5278640543110669']"
      ]
     },
     "execution_count": 20,
     "metadata": {},
     "output_type": "execute_result"
    }
   ],
   "source": [
    "redis_store.lrange(str((particles[1], 'x')), 0, -1)"
   ]
  },
  {
   "cell_type": "code",
   "execution_count": 5,
   "id": "0af82778-3d0c-4bbf-826c-ccff7ed9bcf4",
   "metadata": {},
   "outputs": [],
   "source": [
    "import requests"
   ]
  },
  {
   "cell_type": "code",
   "execution_count": 22,
   "id": "dc0b4450-216c-4256-900d-f15c70da01d2",
   "metadata": {},
   "outputs": [
    {
     "data": {
      "text/plain": [
       "<Response [200]>"
      ]
     },
     "execution_count": 22,
     "metadata": {},
     "output_type": "execute_result"
    }
   ],
   "source": [
    "requests.post(\"http://services-particles-4/step/\")"
   ]
  },
  {
   "cell_type": "code",
   "execution_count": 25,
   "id": "96dc399b-a6e6-49d8-a19a-a0fc606710f7",
   "metadata": {},
   "outputs": [
    {
     "data": {
      "text/plain": [
       "\u001b[0;31mSignature:\u001b[0m \u001b[0mredis_store\u001b[0m\u001b[0;34m.\u001b[0m\u001b[0mhget\u001b[0m\u001b[0;34m(\u001b[0m\u001b[0mname\u001b[0m\u001b[0;34m:\u001b[0m \u001b[0mstr\u001b[0m\u001b[0;34m,\u001b[0m \u001b[0mkey\u001b[0m\u001b[0;34m:\u001b[0m \u001b[0mstr\u001b[0m\u001b[0;34m)\u001b[0m \u001b[0;34m->\u001b[0m \u001b[0mUnion\u001b[0m\u001b[0;34m[\u001b[0m\u001b[0mAwaitable\u001b[0m\u001b[0;34m[\u001b[0m\u001b[0mOptional\u001b[0m\u001b[0;34m[\u001b[0m\u001b[0mstr\u001b[0m\u001b[0;34m]\u001b[0m\u001b[0;34m]\u001b[0m\u001b[0;34m,\u001b[0m \u001b[0mstr\u001b[0m\u001b[0;34m,\u001b[0m \u001b[0mNoneType\u001b[0m\u001b[0;34m]\u001b[0m\u001b[0;34m\u001b[0m\u001b[0;34m\u001b[0m\u001b[0m\n",
       "\u001b[0;31mDocstring:\u001b[0m\n",
       "Return the value of ``key`` within the hash ``name``\n",
       "\n",
       "For more information see https://redis.io/commands/hget\n",
       "\u001b[0;31mFile:\u001b[0m      /opt/conda/lib/python3.10/site-packages/redis/commands/core.py\n",
       "\u001b[0;31mType:\u001b[0m      method\n"
      ]
     },
     "metadata": {},
     "output_type": "display_data"
    }
   ],
   "source": [
    "redis_store.hget?"
   ]
  },
  {
   "cell_type": "code",
   "execution_count": 27,
   "id": "1b4e77a9-c4fb-4839-a904-95e990bfe3c6",
   "metadata": {},
   "outputs": [
    {
     "data": {
      "text/plain": [
       "1"
      ]
     },
     "execution_count": 27,
     "metadata": {},
     "output_type": "execute_result"
    }
   ],
   "source": [
    "redis_store.hset(\"p1\", \"x\", 1)"
   ]
  },
  {
   "cell_type": "code",
   "execution_count": 34,
   "id": "bdbc4dc6-9af5-4325-b6f1-dcfb46bdec4d",
   "metadata": {},
   "outputs": [
    {
     "data": {
      "text/plain": [
       "{b'x': b'1'}"
      ]
     },
     "execution_count": 34,
     "metadata": {},
     "output_type": "execute_result"
    }
   ],
   "source": [
    "redis_store."
   ]
  },
  {
   "cell_type": "code",
   "execution_count": 35,
   "id": "b4a09b80-a55e-4098-ad22-5836cdbfbedb",
   "metadata": {},
   "outputs": [
    {
     "name": "stdout",
     "output_type": "stream",
     "text": [
      "Object `redis_store.subscribe` not found.\n"
     ]
    }
   ],
   "source": [
    "redis_store.subscribe?"
   ]
  },
  {
   "cell_type": "code",
   "execution_count": 37,
   "id": "a6866bdb-0373-42c4-94ed-c8c7945e3c64",
   "metadata": {},
   "outputs": [
    {
     "data": {
      "text/plain": [
       "<redis.client.PubSub at 0x7f86c28b3340>"
      ]
     },
     "execution_count": 37,
     "metadata": {},
     "output_type": "execute_result"
    }
   ],
   "source": [
    "ps = redis_store.pubsub()\n",
    "ps"
   ]
  },
  {
   "cell_type": "code",
   "execution_count": 38,
   "id": "20547e60-e2a2-4f4b-97df-6450ec1dc3bb",
   "metadata": {},
   "outputs": [],
   "source": [
    "ps.subscribe(\"test\")"
   ]
  },
  {
   "cell_type": "code",
   "execution_count": 39,
   "id": "7029dddd-4433-4301-9cff-d00b494ba5c8",
   "metadata": {},
   "outputs": [
    {
     "data": {
      "text/plain": [
       "<redis.client.PubSub at 0x7f86c28b3340>"
      ]
     },
     "execution_count": 39,
     "metadata": {},
     "output_type": "execute_result"
    }
   ],
   "source": [
    "ps"
   ]
  },
  {
   "cell_type": "code",
   "execution_count": null,
   "id": "84acbf3b-9ffb-4c77-9625-2f0b624f23a1",
   "metadata": {},
   "outputs": [
    {
     "name": "stdout",
     "output_type": "stream",
     "text": [
      "{'type': 'subscribe', 'pattern': None, 'channel': b'test', 'data': 1}\n"
     ]
    }
   ],
   "source": [
    "for n in ps.listen(\"):\n",
    "    print(n)"
   ]
  },
  {
   "cell_type": "code",
   "execution_count": null,
   "id": "d9d03f47-a299-4754-95b0-ce479d808157",
   "metadata": {},
   "outputs": [],
   "source": []
  }
 ],
 "metadata": {
  "kernelspec": {
   "display_name": "Python 3 (ipykernel)",
   "language": "python",
   "name": "python3"
  },
  "language_info": {
   "codemirror_mode": {
    "name": "ipython",
    "version": 3
   },
   "file_extension": ".py",
   "mimetype": "text/x-python",
   "name": "python",
   "nbconvert_exporter": "python",
   "pygments_lexer": "ipython3",
   "version": "3.10.8"
  }
 },
 "nbformat": 4,
 "nbformat_minor": 5
}
