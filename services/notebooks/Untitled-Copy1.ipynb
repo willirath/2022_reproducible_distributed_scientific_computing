{
 "cells": [
  {
   "cell_type": "code",
   "execution_count": 1,
   "id": "66d12a59-41f0-4747-a177-ffc60d66a4f2",
   "metadata": {},
   "outputs": [],
   "source": [
    "import redis"
   ]
  },
  {
   "cell_type": "code",
   "execution_count": 2,
   "id": "854b19a9-8550-41f8-a260-1770005a540a",
   "metadata": {},
   "outputs": [],
   "source": [
    "redis_store = redis.Redis(host=\"data_agg_redis\", port=6379)"
   ]
  },
  {
   "cell_type": "code",
   "execution_count": 10,
   "id": "d9d03f47-a299-4754-95b0-ce479d808157",
   "metadata": {},
   "outputs": [
    {
     "data": {
      "text/plain": [
       "1"
      ]
     },
     "execution_count": 10,
     "metadata": {},
     "output_type": "execute_result"
    }
   ],
   "source": [
    "redis_store.publish(\"test\", 3)"
   ]
  },
  {
   "cell_type": "code",
   "execution_count": 14,
   "id": "3ead62f6-2845-46da-976e-59f625a8d708",
   "metadata": {},
   "outputs": [
    {
     "data": {
      "text/plain": [
       "b'1670772937601-0'"
      ]
     },
     "execution_count": 14,
     "metadata": {},
     "output_type": "execute_result"
    }
   ],
   "source": [
    "redis_store.xadd(\"config_stream\", {\"Nstep\": 3})"
   ]
  },
  {
   "cell_type": "code",
   "execution_count": 18,
   "id": "c9589b17-62ad-46df-acc2-491b62a164b9",
   "metadata": {},
   "outputs": [
    {
     "data": {
      "text/plain": [
       "True"
      ]
     },
     "execution_count": 18,
     "metadata": {},
     "output_type": "execute_result"
    }
   ],
   "source": [
    "redis_store.set(\"config:Nstep\", 100)"
   ]
  },
  {
   "cell_type": "code",
   "execution_count": null,
   "id": "dfef22ce-a8b5-43cb-a19c-c714679ae9cf",
   "metadata": {},
   "outputs": [],
   "source": []
  }
 ],
 "metadata": {
  "kernelspec": {
   "display_name": "Python 3 (ipykernel)",
   "language": "python",
   "name": "python3"
  },
  "language_info": {
   "codemirror_mode": {
    "name": "ipython",
    "version": 3
   },
   "file_extension": ".py",
   "mimetype": "text/x-python",
   "name": "python",
   "nbconvert_exporter": "python",
   "pygments_lexer": "ipython3",
   "version": "3.10.8"
  }
 },
 "nbformat": 4,
 "nbformat_minor": 5
}
