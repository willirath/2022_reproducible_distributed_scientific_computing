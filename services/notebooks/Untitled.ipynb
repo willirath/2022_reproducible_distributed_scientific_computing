{
 "cells": [
  {
   "cell_type": "code",
   "execution_count": 1,
   "id": "66d12a59-41f0-4747-a177-ffc60d66a4f2",
   "metadata": {},
   "outputs": [],
   "source": [
    "import redis"
   ]
  },
  {
   "cell_type": "code",
   "execution_count": 2,
   "id": "854b19a9-8550-41f8-a260-1770005a540a",
   "metadata": {},
   "outputs": [],
   "source": [
    "redis_store = redis.Redis(host=\"data_agg_redis\", port=6379)"
   ]
  },
  {
   "cell_type": "code",
   "execution_count": 8,
   "id": "26fbcb15-04a4-4cab-980a-480be102d218",
   "metadata": {},
   "outputs": [
    {
     "data": {
      "text/plain": [
       "b'20'"
      ]
     },
     "execution_count": 8,
     "metadata": {},
     "output_type": "execute_result"
    }
   ],
   "source": [
    "redis_store.hget(\"config\", \"target_step\")"
   ]
  },
  {
   "cell_type": "code",
   "execution_count": 7,
   "id": "7548af95-59ba-428e-a573-31672f58ba37",
   "metadata": {},
   "outputs": [
    {
     "data": {
      "text/plain": [
       "0"
      ]
     },
     "execution_count": 7,
     "metadata": {},
     "output_type": "execute_result"
    }
   ],
   "source": [
    "redis_store.hset(\"config\", \"target_step\", 20)"
   ]
  },
  {
   "cell_type": "code",
   "execution_count": 3,
   "id": "9a5e0f59-2a90-4a1e-b7c7-ce3b31588322",
   "metadata": {},
   "outputs": [
    {
     "data": {
      "text/plain": [
       "\u001b[0;31mSignature:\u001b[0m\n",
       "\u001b[0mredis_store\u001b[0m\u001b[0;34m.\u001b[0m\u001b[0mzadd\u001b[0m\u001b[0;34m(\u001b[0m\u001b[0;34m\u001b[0m\n",
       "\u001b[0;34m\u001b[0m    \u001b[0mname\u001b[0m\u001b[0;34m:\u001b[0m \u001b[0mUnion\u001b[0m\u001b[0;34m[\u001b[0m\u001b[0mbytes\u001b[0m\u001b[0;34m,\u001b[0m \u001b[0mstr\u001b[0m\u001b[0;34m,\u001b[0m \u001b[0mmemoryview\u001b[0m\u001b[0;34m]\u001b[0m\u001b[0;34m,\u001b[0m\u001b[0;34m\u001b[0m\n",
       "\u001b[0;34m\u001b[0m    \u001b[0mmapping\u001b[0m\u001b[0;34m:\u001b[0m \u001b[0mMapping\u001b[0m\u001b[0;34m[\u001b[0m\u001b[0;34m~\u001b[0m\u001b[0mAnyKeyT\u001b[0m\u001b[0;34m,\u001b[0m \u001b[0mUnion\u001b[0m\u001b[0;34m[\u001b[0m\u001b[0mbytes\u001b[0m\u001b[0;34m,\u001b[0m \u001b[0mmemoryview\u001b[0m\u001b[0;34m,\u001b[0m \u001b[0mstr\u001b[0m\u001b[0;34m,\u001b[0m \u001b[0mint\u001b[0m\u001b[0;34m,\u001b[0m \u001b[0mfloat\u001b[0m\u001b[0;34m]\u001b[0m\u001b[0;34m]\u001b[0m\u001b[0;34m,\u001b[0m\u001b[0;34m\u001b[0m\n",
       "\u001b[0;34m\u001b[0m    \u001b[0mnx\u001b[0m\u001b[0;34m:\u001b[0m \u001b[0mbool\u001b[0m \u001b[0;34m=\u001b[0m \u001b[0;32mFalse\u001b[0m\u001b[0;34m,\u001b[0m\u001b[0;34m\u001b[0m\n",
       "\u001b[0;34m\u001b[0m    \u001b[0mxx\u001b[0m\u001b[0;34m:\u001b[0m \u001b[0mbool\u001b[0m \u001b[0;34m=\u001b[0m \u001b[0;32mFalse\u001b[0m\u001b[0;34m,\u001b[0m\u001b[0;34m\u001b[0m\n",
       "\u001b[0;34m\u001b[0m    \u001b[0mch\u001b[0m\u001b[0;34m:\u001b[0m \u001b[0mbool\u001b[0m \u001b[0;34m=\u001b[0m \u001b[0;32mFalse\u001b[0m\u001b[0;34m,\u001b[0m\u001b[0;34m\u001b[0m\n",
       "\u001b[0;34m\u001b[0m    \u001b[0mincr\u001b[0m\u001b[0;34m:\u001b[0m \u001b[0mbool\u001b[0m \u001b[0;34m=\u001b[0m \u001b[0;32mFalse\u001b[0m\u001b[0;34m,\u001b[0m\u001b[0;34m\u001b[0m\n",
       "\u001b[0;34m\u001b[0m    \u001b[0mgt\u001b[0m\u001b[0;34m:\u001b[0m \u001b[0mbool\u001b[0m \u001b[0;34m=\u001b[0m \u001b[0;32mFalse\u001b[0m\u001b[0;34m,\u001b[0m\u001b[0;34m\u001b[0m\n",
       "\u001b[0;34m\u001b[0m    \u001b[0mlt\u001b[0m\u001b[0;34m:\u001b[0m \u001b[0mbool\u001b[0m \u001b[0;34m=\u001b[0m \u001b[0;32mFalse\u001b[0m\u001b[0;34m,\u001b[0m\u001b[0;34m\u001b[0m\n",
       "\u001b[0;34m\u001b[0m\u001b[0;34m)\u001b[0m \u001b[0;34m->\u001b[0m \u001b[0mUnion\u001b[0m\u001b[0;34m[\u001b[0m\u001b[0mAwaitable\u001b[0m\u001b[0;34m,\u001b[0m \u001b[0mAny\u001b[0m\u001b[0;34m]\u001b[0m\u001b[0;34m\u001b[0m\u001b[0;34m\u001b[0m\u001b[0m\n",
       "\u001b[0;31mDocstring:\u001b[0m\n",
       "Set any number of element-name, score pairs to the key ``name``. Pairs\n",
       "are specified as a dict of element-names keys to score values.\n",
       "\n",
       "``nx`` forces ZADD to only create new elements and not to update\n",
       "scores for elements that already exist.\n",
       "\n",
       "``xx`` forces ZADD to only update scores of elements that already\n",
       "exist. New elements will not be added.\n",
       "\n",
       "``ch`` modifies the return value to be the numbers of elements changed.\n",
       "Changed elements include new elements that were added and elements\n",
       "whose scores changed.\n",
       "\n",
       "``incr`` modifies ZADD to behave like ZINCRBY. In this mode only a\n",
       "single element/score pair can be specified and the score is the amount\n",
       "the existing score will be incremented by. When using this mode the\n",
       "return value of ZADD will be the new score of the element.\n",
       "\n",
       "``LT`` Only update existing elements if the new score is less than\n",
       "the current score. This flag doesn't prevent adding new elements.\n",
       "\n",
       "``GT`` Only update existing elements if the new score is greater than\n",
       "the current score. This flag doesn't prevent adding new elements.\n",
       "\n",
       "The return value of ZADD varies based on the mode specified. With no\n",
       "options, ZADD returns the number of new elements added to the sorted\n",
       "set.\n",
       "\n",
       "``NX``, ``LT``, and ``GT`` are mutually exclusive options.\n",
       "\n",
       "See: https://redis.io/commands/ZADD\n",
       "\u001b[0;31mFile:\u001b[0m      /opt/conda/lib/python3.10/site-packages/redis/commands/core.py\n",
       "\u001b[0;31mType:\u001b[0m      method\n"
      ]
     },
     "metadata": {},
     "output_type": "display_data"
    }
   ],
   "source": [
    "redis_store.zadd?"
   ]
  },
  {
   "cell_type": "code",
   "execution_count": 3,
   "id": "0c218d70-5a2a-488e-9256-5d074c8e9f58",
   "metadata": {},
   "outputs": [
    {
     "data": {
      "text/plain": [
       "['64342189-b51e-4ce1-a474-6c5c2c6d1eef',\n",
       " 'f5e5af83-c222-4d7b-82c7-402d52ad0e26',\n",
       " '9a5a020d-122b-4ec1-9a78-7259f517c961',\n",
       " 'f13599da-8a51-4ff3-bdb6-31f8b050f37d']"
      ]
     },
     "execution_count": 3,
     "metadata": {},
     "output_type": "execute_result"
    }
   ],
   "source": [
    "particles = list(map(lambda b: b.decode(\"utf-8\"), redis_store.smembers(\"particle_ids\")))\n",
    "particles"
   ]
  },
  {
   "cell_type": "code",
   "execution_count": 7,
   "id": "31caaf20-b406-4f3f-aea9-e945c15aaa25",
   "metadata": {},
   "outputs": [
    {
     "data": {
      "text/plain": [
       "[b\"('f5e5af83-c222-4d7b-82c7-402d52ad0e26', 'y')\",\n",
       " b\"('f5e5af83-c222-4d7b-82c7-402d52ad0e26', 'x')\",\n",
       " b'particle_ids']"
      ]
     },
     "execution_count": 7,
     "metadata": {},
     "output_type": "execute_result"
    }
   ],
   "source": [
    "redis_store.keys()"
   ]
  },
  {
   "cell_type": "code",
   "execution_count": 115,
   "id": "cb6fb71b-773f-487d-a0b2-8a11b8fb5552",
   "metadata": {},
   "outputs": [
    {
     "data": {
      "text/plain": [
       "[b'-0.663325434550643',\n",
       " b'-1.3023929544724524',\n",
       " b'-1.9414604743942618',\n",
       " b'-1.4985942915081978',\n",
       " b'-1.0557281086221337',\n",
       " b'-0.5278640543110669']"
      ]
     },
     "execution_count": 115,
     "metadata": {},
     "output_type": "execute_result"
    }
   ],
   "source": [
    "redis_store.lrange(str((particles[1], 'x')), 0, -1)"
   ]
  },
  {
   "cell_type": "code",
   "execution_count": 5,
   "id": "0af82778-3d0c-4bbf-826c-ccff7ed9bcf4",
   "metadata": {},
   "outputs": [],
   "source": [
    "import requests"
   ]
  },
  {
   "cell_type": "code",
   "execution_count": 22,
   "id": "dc0b4450-216c-4256-900d-f15c70da01d2",
   "metadata": {},
   "outputs": [
    {
     "data": {
      "text/plain": [
       "<Response [200]>"
      ]
     },
     "execution_count": 22,
     "metadata": {},
     "output_type": "execute_result"
    }
   ],
   "source": [
    "requests.post(\"http://services-particles-4/step/\")"
   ]
  },
  {
   "cell_type": "code",
   "execution_count": 25,
   "id": "96dc399b-a6e6-49d8-a19a-a0fc606710f7",
   "metadata": {},
   "outputs": [
    {
     "data": {
      "text/plain": [
       "\u001b[0;31mSignature:\u001b[0m \u001b[0mredis_store\u001b[0m\u001b[0;34m.\u001b[0m\u001b[0mhget\u001b[0m\u001b[0;34m(\u001b[0m\u001b[0mname\u001b[0m\u001b[0;34m:\u001b[0m \u001b[0mstr\u001b[0m\u001b[0;34m,\u001b[0m \u001b[0mkey\u001b[0m\u001b[0;34m:\u001b[0m \u001b[0mstr\u001b[0m\u001b[0;34m)\u001b[0m \u001b[0;34m->\u001b[0m \u001b[0mUnion\u001b[0m\u001b[0;34m[\u001b[0m\u001b[0mAwaitable\u001b[0m\u001b[0;34m[\u001b[0m\u001b[0mOptional\u001b[0m\u001b[0;34m[\u001b[0m\u001b[0mstr\u001b[0m\u001b[0;34m]\u001b[0m\u001b[0;34m]\u001b[0m\u001b[0;34m,\u001b[0m \u001b[0mstr\u001b[0m\u001b[0;34m,\u001b[0m \u001b[0mNoneType\u001b[0m\u001b[0;34m]\u001b[0m\u001b[0;34m\u001b[0m\u001b[0;34m\u001b[0m\u001b[0m\n",
       "\u001b[0;31mDocstring:\u001b[0m\n",
       "Return the value of ``key`` within the hash ``name``\n",
       "\n",
       "For more information see https://redis.io/commands/hget\n",
       "\u001b[0;31mFile:\u001b[0m      /opt/conda/lib/python3.10/site-packages/redis/commands/core.py\n",
       "\u001b[0;31mType:\u001b[0m      method\n"
      ]
     },
     "metadata": {},
     "output_type": "display_data"
    }
   ],
   "source": [
    "redis_store.hget?"
   ]
  },
  {
   "cell_type": "code",
   "execution_count": 27,
   "id": "1b4e77a9-c4fb-4839-a904-95e990bfe3c6",
   "metadata": {},
   "outputs": [
    {
     "data": {
      "text/plain": [
       "1"
      ]
     },
     "execution_count": 27,
     "metadata": {},
     "output_type": "execute_result"
    }
   ],
   "source": [
    "redis_store.hset(\"p1\", \"x\", 1)"
   ]
  },
  {
   "cell_type": "code",
   "execution_count": 34,
   "id": "bdbc4dc6-9af5-4325-b6f1-dcfb46bdec4d",
   "metadata": {},
   "outputs": [
    {
     "data": {
      "text/plain": [
       "{b'x': b'1'}"
      ]
     },
     "execution_count": 34,
     "metadata": {},
     "output_type": "execute_result"
    }
   ],
   "source": [
    "redis_store."
   ]
  },
  {
   "cell_type": "code",
   "execution_count": 35,
   "id": "b4a09b80-a55e-4098-ad22-5836cdbfbedb",
   "metadata": {},
   "outputs": [
    {
     "name": "stdout",
     "output_type": "stream",
     "text": [
      "Object `redis_store.subscribe` not found.\n"
     ]
    }
   ],
   "source": [
    "redis_store.subscribe?"
   ]
  },
  {
   "cell_type": "code",
   "execution_count": 37,
   "id": "a6866bdb-0373-42c4-94ed-c8c7945e3c64",
   "metadata": {},
   "outputs": [
    {
     "data": {
      "text/plain": [
       "<redis.client.PubSub at 0x7f86c28b3340>"
      ]
     },
     "execution_count": 37,
     "metadata": {},
     "output_type": "execute_result"
    }
   ],
   "source": [
    "ps = redis_store.pubsub()\n",
    "ps"
   ]
  },
  {
   "cell_type": "code",
   "execution_count": 47,
   "id": "20547e60-e2a2-4f4b-97df-6450ec1dc3bb",
   "metadata": {},
   "outputs": [],
   "source": [
    "ps.subscribe(\"test\")"
   ]
  },
  {
   "cell_type": "code",
   "execution_count": 48,
   "id": "7029dddd-4433-4301-9cff-d00b494ba5c8",
   "metadata": {},
   "outputs": [
    {
     "data": {
      "text/plain": [
       "<redis.client.PubSub at 0x7f86c28b3340>"
      ]
     },
     "execution_count": 48,
     "metadata": {},
     "output_type": "execute_result"
    }
   ],
   "source": [
    "ps"
   ]
  },
  {
   "cell_type": "code",
   "execution_count": 52,
   "id": "42289354-0579-47cd-a96d-bb8096fc1974",
   "metadata": {},
   "outputs": [],
   "source": [
    "asdf = []"
   ]
  },
  {
   "cell_type": "code",
   "execution_count": 65,
   "id": "d9d03f47-a299-4754-95b0-ce479d808157",
   "metadata": {},
   "outputs": [
    {
     "data": {
      "text/plain": [
       "(b'1670772937601-0', {b'Nstep': b'3'})"
      ]
     },
     "execution_count": 65,
     "metadata": {},
     "output_type": "execute_result"
    }
   ],
   "source": [
    "redis_store.xread({\"config_stream\": \"0\"})[0][1][-1]"
   ]
  },
  {
   "cell_type": "code",
   "execution_count": 68,
   "id": "62d9560c-5f7f-4eea-be36-2fbf665b211d",
   "metadata": {},
   "outputs": [],
   "source": [
    "import time"
   ]
  },
  {
   "cell_type": "code",
   "execution_count": 75,
   "id": "7b6d337a-18bb-4667-96df-cb97aba4f24e",
   "metadata": {},
   "outputs": [
    {
     "name": "stdout",
     "output_type": "stream",
     "text": [
      "100\n"
     ]
    }
   ],
   "source": [
    "while True:\n",
    "    time.sleep(1)\n",
    "    Nstep = redis_store.get(\"config:Nstep\")\n",
    "    if Nstep is None:\n",
    "        continue\n",
    "    else:\n",
    "        Nstep = int(Nstep)\n",
    "        break\n",
    "        \n",
    "\n",
    "print(Nstep)"
   ]
  },
  {
   "cell_type": "code",
   "execution_count": 80,
   "id": "b1ca32ee-63a0-4683-af73-e2273fdb2fa2",
   "metadata": {},
   "outputs": [
    {
     "data": {
      "text/plain": [
       "b'1'"
      ]
     },
     "execution_count": 80,
     "metadata": {},
     "output_type": "execute_result"
    }
   ],
   "source": [
    "redis_store.hget(\"asdf\", \"asdf\")"
   ]
  },
  {
   "cell_type": "code",
   "execution_count": 78,
   "id": "c6723f9b-db03-4a57-afaa-9f49f34afa0f",
   "metadata": {},
   "outputs": [
    {
     "data": {
      "text/plain": [
       "1"
      ]
     },
     "execution_count": 78,
     "metadata": {},
     "output_type": "execute_result"
    }
   ],
   "source": [
    "redis_store.hset(\"asdf\", \"asdf\", 1)"
   ]
  },
  {
   "cell_type": "code",
   "execution_count": 107,
   "id": "b51011e7-8a7c-4dbf-9c5e-3152cdb5e3a5",
   "metadata": {},
   "outputs": [
    {
     "data": {
      "text/plain": [
       "6"
      ]
     },
     "execution_count": 107,
     "metadata": {},
     "output_type": "execute_result"
    }
   ],
   "source": [
    "redis_store.rpush(\"1234:x\", 1.23)"
   ]
  },
  {
   "cell_type": "code",
   "execution_count": 110,
   "id": "214043c4-356e-42b6-852f-81680fb1f809",
   "metadata": {},
   "outputs": [
    {
     "data": {
      "text/plain": [
       "[1.0, 1.0, 1.0, 1.23, 1.23, 1.23]"
      ]
     },
     "execution_count": 110,
     "metadata": {},
     "output_type": "execute_result"
    }
   ],
   "source": [
    "list(map(float, redis_store.lrange(\"1234:x\", 0, -1)))"
   ]
  },
  {
   "cell_type": "code",
   "execution_count": 11,
   "id": "a505f108-2846-4e03-bbb7-3d1b89c3b797",
   "metadata": {},
   "outputs": [
    {
     "data": {
      "text/plain": [
       "[b'7f88aeef-7a10-44d4-9978-7ec35266e236:t',\n",
       " b'c6305442-4727-4b42-ab37-8b8f184438ef:t',\n",
       " b'192719de-f20a-47cf-b3b3-cafbe11f5a12:t',\n",
       " b'8f185e93-6159-4293-8826-e3c8f97cfc6f:t',\n",
       " b'config',\n",
       " b'395025f5-3770-49c1-85b8-edef0bd3929d:t',\n",
       " b'81d4081b-57da-4d55-840e-3baf5de5d61d:t',\n",
       " b'8f185e93-6159-4293-8826-e3c8f97cfc6f:x',\n",
       " b'9f19fa1a-32e3-48c8-a084-4b04bc4832a1:x',\n",
       " b'eba7bc46-cf23-4224-821d-d1b93aed1533:x',\n",
       " b'7f88aeef-7a10-44d4-9978-7ec35266e236:y',\n",
       " b'c6305442-4727-4b42-ab37-8b8f184438ef:x',\n",
       " b'f71433f0-0335-4606-8897-462d37454e55:y',\n",
       " b'81d4081b-57da-4d55-840e-3baf5de5d61d:x',\n",
       " b'192719de-f20a-47cf-b3b3-cafbe11f5a12:x',\n",
       " b'86206b37-3873-466b-9b8b-35c4a2ca5c4d:t',\n",
       " b'9f19fa1a-32e3-48c8-a084-4b04bc4832a1:y',\n",
       " b'f15966e7-cd29-4f26-aeb9-9d30fbecedfe:y',\n",
       " b'3031d810-2b81-44cb-ae82-ed6ff06cd3e9:t',\n",
       " b'395025f5-3770-49c1-85b8-edef0bd3929d:y',\n",
       " b'192719de-f20a-47cf-b3b3-cafbe11f5a12:y',\n",
       " b'86206b37-3873-466b-9b8b-35c4a2ca5c4d:x',\n",
       " b'f71433f0-0335-4606-8897-462d37454e55:t',\n",
       " b'eba7bc46-cf23-4224-821d-d1b93aed1533:t',\n",
       " b'008257fa-25aa-4c47-b4c6-f49d5d081b6d:y',\n",
       " b'c6305442-4727-4b42-ab37-8b8f184438ef:y',\n",
       " b'7f88aeef-7a10-44d4-9978-7ec35266e236:x',\n",
       " b'e92b21f3-2250-458f-859e-3837d1f6e81e:y',\n",
       " b'3031d810-2b81-44cb-ae82-ed6ff06cd3e9:y',\n",
       " b'81d4081b-57da-4d55-840e-3baf5de5d61d:y',\n",
       " b'f71433f0-0335-4606-8897-462d37454e55:x',\n",
       " b'3031d810-2b81-44cb-ae82-ed6ff06cd3e9:x',\n",
       " b'cd0d3e5f-32c9-4d63-8f54-da011598d425:y',\n",
       " b'e92b21f3-2250-458f-859e-3837d1f6e81e:t',\n",
       " b'e92b21f3-2250-458f-859e-3837d1f6e81e:x',\n",
       " b'eba7bc46-cf23-4224-821d-d1b93aed1533:y',\n",
       " b'395025f5-3770-49c1-85b8-edef0bd3929d:x',\n",
       " b'008257fa-25aa-4c47-b4c6-f49d5d081b6d:t',\n",
       " b'f15966e7-cd29-4f26-aeb9-9d30fbecedfe:x',\n",
       " b'9c4d4e89-5cfd-4d94-864e-1fb99a4c76b8:x',\n",
       " b'86206b37-3873-466b-9b8b-35c4a2ca5c4d:y',\n",
       " b'8f185e93-6159-4293-8826-e3c8f97cfc6f:y',\n",
       " b'cd0d3e5f-32c9-4d63-8f54-da011598d425:t',\n",
       " b'cd0d3e5f-32c9-4d63-8f54-da011598d425:x',\n",
       " b'9f19fa1a-32e3-48c8-a084-4b04bc4832a1:t',\n",
       " b'008257fa-25aa-4c47-b4c6-f49d5d081b6d:x',\n",
       " b'f15966e7-cd29-4f26-aeb9-9d30fbecedfe:t',\n",
       " b'9c4d4e89-5cfd-4d94-864e-1fb99a4c76b8:y',\n",
       " b'particle_ids',\n",
       " b'9c4d4e89-5cfd-4d94-864e-1fb99a4c76b8:t']"
      ]
     },
     "execution_count": 11,
     "metadata": {},
     "output_type": "execute_result"
    }
   ],
   "source": [
    "redis_store.keys()"
   ]
  },
  {
   "cell_type": "code",
   "execution_count": 1,
   "id": "c5622bb0-c780-4e76-b45e-b8a55a176f24",
   "metadata": {},
   "outputs": [
    {
     "name": "stdout",
     "output_type": "stream",
     "text": [
      "Collecting pandas\n",
      "  Downloading pandas-1.5.2-cp310-cp310-manylinux_2_17_x86_64.manylinux2014_x86_64.whl (12.1 MB)\n",
      "\u001b[2K     \u001b[90m━━━━━━━━━━━━━━━━━━━━━━━━━━━━━━━━━━━━━━━━\u001b[0m \u001b[32m12.1/12.1 MB\u001b[0m \u001b[31m3.8 MB/s\u001b[0m eta \u001b[36m0:00:00\u001b[0m00:01\u001b[0m00:01\u001b[0mm\n",
      "\u001b[?25hRequirement already satisfied: pytz>=2020.1 in /opt/conda/lib/python3.10/site-packages (from pandas) (2022.6)\n",
      "Requirement already satisfied: python-dateutil>=2.8.1 in /opt/conda/lib/python3.10/site-packages (from pandas) (2.8.2)\n",
      "Collecting numpy>=1.21.0\n",
      "  Downloading numpy-1.23.5-cp310-cp310-manylinux_2_17_x86_64.manylinux2014_x86_64.whl (17.1 MB)\n",
      "\u001b[2K     \u001b[90m━━━━━━━━━━━━━━━━━━━━━━━━━━━━━━━━━━━━━━━━\u001b[0m \u001b[32m17.1/17.1 MB\u001b[0m \u001b[31m5.7 MB/s\u001b[0m eta \u001b[36m0:00:00\u001b[0m00:01\u001b[0m00:01\u001b[0m\n",
      "\u001b[?25hRequirement already satisfied: six>=1.5 in /opt/conda/lib/python3.10/site-packages (from python-dateutil>=2.8.1->pandas) (1.16.0)\n",
      "Installing collected packages: numpy, pandas\n",
      "Successfully installed numpy-1.23.5 pandas-1.5.2\n",
      "Note: you may need to restart the kernel to use updated packages.\n"
     ]
    }
   ],
   "source": [
    "%pip install pandas"
   ]
  },
  {
   "cell_type": "code",
   "execution_count": 2,
   "id": "f2fdfb7d-3e33-4d67-afcc-1504348854f4",
   "metadata": {},
   "outputs": [],
   "source": [
    "import pandas as pd"
   ]
  }
 ],
 "metadata": {
  "kernelspec": {
   "display_name": "Python 3 (ipykernel)",
   "language": "python",
   "name": "python3"
  },
  "language_info": {
   "codemirror_mode": {
    "name": "ipython",
    "version": 3
   },
   "file_extension": ".py",
   "mimetype": "text/x-python",
   "name": "python",
   "nbconvert_exporter": "python",
   "pygments_lexer": "ipython3",
   "version": "3.10.8"
  }
 },
 "nbformat": 4,
 "nbformat_minor": 5
}
